{
 "cells": [
  {
   "cell_type": "markdown",
   "id": "7d53a2b1",
   "metadata": {},
   "source": [
    "# Audio Preprocessing"
   ]
  },
  {
   "cell_type": "markdown",
   "id": "c8a373bd",
   "metadata": {},
   "source": [
    "# Text to Speech"
   ]
  },
  {
   "cell_type": "code",
   "execution_count": 1,
   "id": "0671c180",
   "metadata": {},
   "outputs": [],
   "source": [
    "import pyttsx3"
   ]
  },
  {
   "cell_type": "code",
   "execution_count": 2,
   "id": "cf9fc1a6",
   "metadata": {},
   "outputs": [],
   "source": [
    "engine = pyttsx3.init()\n",
    "voice = engine.getProperty(\"voices\")\n",
    "engine.setProperty(\"voices\", voice[0].id)# Male or female speech\n",
    "rate = engine.getProperty(\"rate\")\n",
    "engine.setProperty(\"rate\", 140) #Speed of speech"
   ]
  },
  {
   "cell_type": "code",
   "execution_count": 3,
   "id": "2518d9e0",
   "metadata": {},
   "outputs": [],
   "source": [
    "def talk (audio):\n",
    "    engine.say(audio)\n",
    "    engine.runAndWait()\n",
    "\n",
    "talk(\"The number you're calling is currently switched off;Please try again later!\")"
   ]
  },
  {
   "cell_type": "code",
   "execution_count": null,
   "id": "5a6ba9d7",
   "metadata": {},
   "outputs": [],
   "source": []
  },
  {
   "cell_type": "code",
   "execution_count": null,
   "id": "312cefc4",
   "metadata": {},
   "outputs": [],
   "source": []
  }
 ],
 "metadata": {
  "kernelspec": {
   "display_name": "Python 3 (ipykernel)",
   "language": "python",
   "name": "python3"
  },
  "language_info": {
   "codemirror_mode": {
    "name": "ipython",
    "version": 3
   },
   "file_extension": ".py",
   "mimetype": "text/x-python",
   "name": "python",
   "nbconvert_exporter": "python",
   "pygments_lexer": "ipython3",
   "version": "3.9.12"
  }
 },
 "nbformat": 4,
 "nbformat_minor": 5
}
